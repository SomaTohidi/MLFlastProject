{
 "cells": [
  {
   "cell_type": "markdown",
   "id": "d5cc3e24-19a0-4c6f-9aa8-f2cd40287c71",
   "metadata": {},
   "source": [
    "# Evaluate the Model\n",
    "### (a) Load and Analyze Predictions\n",
    "\n",
    "    Load the predictions (from a file or database).\n",
    "    Compare predictions with ground truth (if available)."
   ]
  },
  {
   "cell_type": "code",
   "execution_count": 2,
   "id": "36ce8ea0-1f0c-41ae-a162-dd3fa84aa8f9",
   "metadata": {},
   "outputs": [
    {
     "name": "stdout",
     "output_type": "stream",
     "text": [
      "              precision    recall  f1-score   support\n",
      "\n",
      "      Normal       1.00      0.91      0.95        91\n",
      "     Anomaly       0.53      1.00      0.69         9\n",
      "\n",
      "    accuracy                           0.92       100\n",
      "   macro avg       0.76      0.96      0.82       100\n",
      "weighted avg       0.96      0.92      0.93       100\n",
      "\n",
      "Confusion Matrix: [[83  8]\n",
      " [ 0  9]]\n"
     ]
    }
   ],
   "source": [
    "import pandas as pd\n",
    "from sklearn.metrics import classification_report, confusion_matrix, precision_score, recall_score, f1_score\n",
    "\n",
    "# Load predictions\n",
    "predictions = pd.read_csv(\"data/predictions.csv\")\n",
    "\n",
    "# Assuming the CSV has columns: 'timestamp', 'ground_truth', 'prediction'\n",
    "ground_truth = predictions['ground_truth']  # Actual labels\n",
    "prediction = predictions['prediction']  # Model predictions\n",
    "\n",
    "# Evaluate the model\n",
    "report = classification_report(ground_truth, prediction, target_names=[\"Normal\", \"Anomaly\"])\n",
    "print(report)\n",
    "\n",
    "# Confusion Matrix\n",
    "conf_matrix = confusion_matrix(ground_truth, prediction)\n",
    "print(\"Confusion Matrix:\", conf_matrix)"
   ]
  },
  {
   "cell_type": "markdown",
   "id": "a6539996-b0d3-4ed9-8975-c5b95d5a60a6",
   "metadata": {},
   "source": [
    "### (b) Calculate Metrics"
   ]
  },
  {
   "cell_type": "code",
   "execution_count": 3,
   "id": "3d7e8f03-1896-4b2a-be8c-580c3240a114",
   "metadata": {},
   "outputs": [
    {
     "name": "stdout",
     "output_type": "stream",
     "text": [
      "Precision: 0.5294117647058824, Recall: 1.0, F1-Score: 0.6923076923076923\n"
     ]
    }
   ],
   "source": [
    "precision = precision_score(ground_truth, prediction)\n",
    "recall = recall_score(ground_truth, prediction)\n",
    "f1 = f1_score(ground_truth, prediction)\n",
    "\n",
    "print(f\"Precision: {precision}, Recall: {recall}, F1-Score: {f1}\")"
   ]
  },
  {
   "cell_type": "markdown",
   "id": "8900bfff-a131-4783-ac08-cb7cf8d5b890",
   "metadata": {},
   "source": [
    "### (c) Visualize Metrics"
   ]
  },
  {
   "cell_type": "code",
   "execution_count": 4,
   "id": "77d8ce79-aece-4c13-8a51-ccb479cd7036",
   "metadata": {},
   "outputs": [
    {
     "data": {
      "image/png": "[encoded data removed]",
      "text/plain": [
       "<Figure size 640x480 with 2 Axes>"
      ]
     },
     "metadata": {},
     "output_type": "display_data"
    }
   ],
   "source": [
    "import matplotlib.pyplot as plt\n",
    "import seaborn as sns\n",
    "\n",
    "sns.heatmap(conf_matrix, annot=True, fmt='d', cmap='Blues')\n",
    "plt.title(\"Confusion Matrix\")\n",
    "plt.xlabel(\"Predicted\")\n",
    "plt.ylabel(\"Actual\")\n",
    "plt.show()"
   ]
  },
  {
   "cell_type": "code",
   "execution_count": null,
   "id": "7790da35-ce17-4138-8fd7-2b7c7a612ed7",
   "metadata": {},
   "outputs": [],
   "source": []
  }
 ],
 "metadata": {
  "kernelspec": {
   "display_name": "Python 3 (ipykernel)",
   "language": "python",
   "name": "python3"
  },
  "language_info": {
   "codemirror_mode": {
    "name": "ipython",
    "version": 3
   },
   "file_extension": ".py",
   "mimetype": "text/x-python",
   "name": "python",
   "nbconvert_exporter": "python",
   "pygments_lexer": "ipython3",
   "version": "3.12.2"
  }
 },
 "nbformat": 4,
 "nbformat_minor": 5
}
